{
 "cells": [
  {
   "cell_type": "code",
   "execution_count": 75,
   "metadata": {},
   "outputs": [
    {
     "data": {
      "image/png": "[encoded data removed]",
      "text/plain": [
       "<matplotlib.figure.Figure at 0x1dadc59fc50>"
      ]
     },
     "metadata": {},
     "output_type": "display_data"
    },
    {
     "name": "stdout",
     "output_type": "stream",
     "text": [
      "0.8596491228070176\n"
     ]
    }
   ],
   "source": [
    "from sklearn.externals.joblib import Memory\n",
    "import matplotlib.pyplot as plt\n",
    "from sklearn.datasets import load_svmlight_file\n",
    "from sklearn.model_selection import train_test_split\n",
    "import numpy as np\n",
    "def get_data():\n",
    "    data = load_svmlight_file(\"australian_scale\")\n",
    "    return data[0], data[1]\n",
    "\n",
    "X, y = get_data()\n",
    "X=X.dot(np.eye(14))\n",
    "b=np.ones((690,1))\n",
    "Z=np.column_stack((X,b))\n",
    "X_train, X_test, y_train, y_test = train_test_split( Z, y, test_size=0.33, random_state=10)\n",
    "thea=np.zeros((15,1), dtype=np.float64)\n",
    "#print(thea.shape)\n",
    "#print(X_train)\n",
    "y_test.shape=(-1,1)\n",
    "y_train.shape=(-1,1)\n",
    "tuple_train=X_train.shape\n",
    "tuple_test=X_test.shape\n",
    "length_train=tuple_train[0]\n",
    "length_test=tuple_test[0]\n",
    "#print(y_train)\n",
    "#print(tuple_train)\n",
    "b=0.0\n",
    "#print(k)\n",
    "#print(y_test)\n",
    "#print(x_train.shape)\n",
    "learningRate=0.02\n",
    "x_coordinate=[0]\n",
    "y_coordinateTraining=[0]\n",
    "y_coordinateTest=[0]\n",
    "C=0.4\n",
    "def training():\n",
    "    fx=X_train.dot(thea)\n",
    "    hk=fx*y_train\n",
    "    index_train=y_train\n",
    "    #index_1=np.ones((length_train,1))\n",
    "    for index in range(length_train):\n",
    "        if hk[index]>=1:\n",
    "            index_train[index]=b\n",
    "    #index_train=index_train*index_1\n",
    "    #print(index_train)\n",
    "    index_train_hk=index_train.T\n",
    "    for i in range(15):\n",
    "        descent=index_train_hk.dot(X_train[:,i])\n",
    "        #WI=thea[i]\n",
    "        #if WI<0:\n",
    "            #WI=-WI\n",
    "        descentTwo=thea[i]-C*descent/length_train\n",
    "        thea[i]-=learningRate*descentTwo\n",
    "def getLossTrain():\n",
    "    fx=X_train.dot(thea)\n",
    "    hk=fx*y_train\n",
    "    #print(hk)\n",
    "    for i in range(length_train):\n",
    "        if hk[i]>=1:\n",
    "            hk[i]=b\n",
    "        else:\n",
    "            hk[i]=1-hk[i]\n",
    "    #print(hk)\n",
    "    #print(hk.sum(axis=0))\n",
    "    lossOne=(thea.T).dot(thea)\n",
    "    #print(lossOne)\n",
    "    loss=hk.sum(axis=0)*C+lossOne*0.5\n",
    "    return loss[0][0]\n",
    "def getLossTest():\n",
    "    fx=X_test.dot(thea)\n",
    "    hk=fx*y_test\n",
    "    for i in range(length_test):\n",
    "        if hk[i]>=1:\n",
    "            hk[i]=b\n",
    "        else:\n",
    "            hk[i]=1-hk[i]\n",
    "    lossOne=(thea.T).dot(thea)\n",
    "    #print(hk.sum(axis=0))\n",
    "    #print(lossOne)\n",
    "    loss=hk.sum(axis=0)*C+lossOne*0.5\n",
    "    return loss[0][0]\n",
    "for j in range(0,500):\n",
    "    training()\n",
    "    #if j%100==0:\n",
    "    lossTraining=getLossTrain()\n",
    "    lossTest=getLossTest()\n",
    "    x_coordinate.append(j+1)\n",
    "    y_coordinateTraining.append(lossTraining)\n",
    "    y_coordinateTest.append(lossTest)\n",
    "        \n",
    "del x_coordinate[0]\n",
    "del y_coordinateTraining[0]\n",
    "del y_coordinateTest[0]\n",
    "plt.plot(x_coordinate,y_coordinateTraining,label='Training')\n",
    "plt.plot(x_coordinate,y_coordinateTest,label='Test')\n",
    "plt.xlabel('Times')\n",
    "plt.ylabel('Loss')\n",
    "plt.title('Times\\Loss')\n",
    "plt.legend()\n",
    "plt.show()\n",
    "fx=X_test.dot(thea)\n",
    "count=0\n",
    "for i in range(length_test):\n",
    "    if fx[i]>0:\n",
    "        fx[i]=1\n",
    "    else:\n",
    "        fx[i]=-1\n",
    "for i in range(length_test):\n",
    "    if fx[i]==y_test[i]:\n",
    "        count+=1\n",
    "print(count/length_test)     \n",
    "#training()\n",
    "#getLossTrain()\n",
    "#print(X.shape)\n",
    "#print(X)\n",
    "#print(y)\n",
    "#print(thea)\n",
    "#print(x_train[:,12])\n",
    "#x_coordinate=[0]\n",
    "#y_coordinateTraining=[0]\n",
    "#y_coordinateTest=[0]\n",
    "\n"
   ]
  },
  {
   "cell_type": "code",
   "execution_count": 37,
   "metadata": {},
   "outputs": [
    {
     "data": {
      "text/plain": [
       "dtype('float64')"
      ]
     },
     "execution_count": 37,
     "metadata": {},
     "output_type": "execute_result"
    }
   ],
   "source": []
  },
  {
   "cell_type": "code",
   "execution_count": null,
   "metadata": {
    "collapsed": true
   },
   "outputs": [],
   "source": []
  }
 ],
 "metadata": {
  "kernelspec": {
   "display_name": "Python 3",
   "language": "python",
   "name": "python3"
  },
  "language_info": {
   "codemirror_mode": {
    "name": "ipython",
    "version": 3
   },
   "file_extension": ".py",
   "mimetype": "text/x-python",
   "name": "python",
   "nbconvert_exporter": "python",
   "pygments_lexer": "ipython3",
   "version": "3.6.2"
  }
 },
 "nbformat": 4,
 "nbformat_minor": 2
}
